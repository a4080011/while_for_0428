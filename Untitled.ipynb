{
 "cells": [
  {
   "cell_type": "code",
   "execution_count": 1,
   "id": "3ca0aac7",
   "metadata": {},
   "outputs": [
    {
     "name": "stdout",
     "output_type": "stream",
     "text": [
      "hi\n"
     ]
    }
   ],
   "source": [
    "print(\"hi\")"
   ]
  },
  {
   "cell_type": "code",
   "execution_count": 4,
   "id": "70c70725",
   "metadata": {},
   "outputs": [
    {
     "name": "stdout",
     "output_type": "stream",
     "text": [
      "輸入盎司：5.5\n",
      "155.9195克\n"
     ]
    }
   ],
   "source": [
    "oz = float(input(\"輸入盎司：\"))\n",
    "a=oz*28.349\n",
    "#float的問題是有可能裡面是逼近數而不是準確數，所以用相等判斷容易出錯。如果要判斷可以用if ((float-判斷數)<0.00001)：\n",
    "print(str(a)+\"克\")"
   ]
  },
  {
   "cell_type": "code",
   "execution_count": 5,
   "id": "6eda707b",
   "metadata": {},
   "outputs": [
    {
     "name": "stdout",
     "output_type": "stream",
     "text": [
      "輸入盎司：4\n",
      "112.0\n"
     ]
    }
   ],
   "source": [
    "def my_first_function():\n",
    "    oz = float(input(\"輸入盎司：\"))\n",
    "    gram = oz*28\n",
    "    print(gram)\n",
    "\n",
    "my_first_function()"
   ]
  },
  {
   "cell_type": "code",
   "execution_count": 10,
   "id": "51f191ac",
   "metadata": {},
   "outputs": [
    {
     "name": "stdout",
     "output_type": "stream",
     "text": [
      "請輸入分鐘：360\n",
      "6.0小時\n"
     ]
    }
   ],
   "source": [
    "def minute_to_hr():\n",
    "    minute = int(input(\"請輸入分鐘：\"))\n",
    "    hr = float(minute/60)\n",
    "    print(str(hr)+\"小時\")\n",
    "minute_to_hr()"
   ]
  },
  {
   "cell_type": "code",
   "execution_count": 14,
   "id": "4beccb2d",
   "metadata": {},
   "outputs": [
    {
     "name": "stdout",
     "output_type": "stream",
     "text": [
      "盎司：5\n",
      "140.0\n"
     ]
    }
   ],
   "source": [
    "oz = float(input(\"盎司：\"))\n",
    "def oz2gram(oz):\n",
    "    gram = oz*28\n",
    "    print(gram)\n",
    "oz2gram(oz)\n"
   ]
  },
  {
   "cell_type": "code",
   "execution_count": 17,
   "id": "680b2d8c",
   "metadata": {},
   "outputs": [
    {
     "name": "stdout",
     "output_type": "stream",
     "text": [
      "a：6\n",
      "b：7\n",
      "13\n"
     ]
    }
   ],
   "source": [
    "def add(a,b):#裡面的東西就是函數的區域變數\n",
    "    c=a+b\n",
    "    return c\n",
    "a,b = int(input(\"a：\")),int(input(\"b：\"))\n",
    "addans = add(a,b)\n",
    "print(addans)"
   ]
  },
  {
   "cell_type": "code",
   "execution_count": 21,
   "id": "0b1f25aa",
   "metadata": {},
   "outputs": [
    {
     "name": "stdout",
     "output_type": "stream",
     "text": [
      "分鐘(整數)：240\n",
      "4.0小時\n"
     ]
    }
   ],
   "source": [
    "def min_to_hour(minute):\n",
    "    hour = minute/60\n",
    "    hour = str(hour)+\"小時\"\n",
    "    return hour\n",
    "minute = int(input(\"分鐘(整數)：\"))\n",
    "ans = min_to_hour(minute)\n",
    "print(ans)"
   ]
  },
  {
   "cell_type": "code",
   "execution_count": 28,
   "id": "8924bd27",
   "metadata": {},
   "outputs": [
    {
     "name": "stdout",
     "output_type": "stream",
     "text": [
      "請輸入正整數並用空格做分隔：1 44 6 744 7 333\n",
      "[2, 45, 7, 745, 8, 334]\n"
     ]
    }
   ],
   "source": [
    "def list_add_1(list1):\n",
    "    x = 0\n",
    "    while x<len(list1):\n",
    "        list1[x] = int(list1[x])+1\n",
    "        x+=1\n",
    "    return list1\n",
    "list1 = list(map(int,input(\"請輸入正整數並用空格做分隔：\").split()))\n",
    "listans = list_add_1(list1)\n",
    "print(listans)"
   ]
  },
  {
   "cell_type": "code",
   "execution_count": 2,
   "id": "414e3ff3",
   "metadata": {},
   "outputs": [
    {
     "name": "stdout",
     "output_type": "stream",
     "text": [
      "請輸入正整數並以空格為分隔4 44 444 4444 5\n",
      "0\n",
      "1\n",
      "2\n",
      "3\n",
      "4\n",
      "[6, 46, 446, 4446, 7]\n"
     ]
    }
   ],
   "source": [
    "def list_add_2(list2):\n",
    "    \n",
    "    for i in range(len(list2)):\n",
    "        list2[i] = list2[i]+2\n",
    "    return list2\n",
    "list2 = list(map(int,input(\"請輸入正整數並以空格為分隔\").split()))\n",
    "listans2 = list_add_2(list2)\n",
    "print(listans2)"
   ]
  },
  {
   "cell_type": "code",
   "execution_count": 33,
   "id": "010d80cf",
   "metadata": {},
   "outputs": [
    {
     "name": "stdout",
     "output_type": "stream",
     "text": [
      "請輸入正整數並以空格為分隔1 3332 453 5343\n",
      "[4, 3335, 456, 5346]\n"
     ]
    }
   ],
   "source": [
    "#新東西！！list.append()將括號裡的字放進list裡\n",
    "def list_add_3(list3):\n",
    "    x = 0\n",
    "    newlist = []\n",
    "    while x<len(list3):\n",
    "        aa = 0\n",
    "        aa = list3[x]+3\n",
    "        newlist.append(aa)\n",
    "        x+=1\n",
    "    return newlist\n",
    "list3 = list(map(int,input(\"請輸入正整數並以空格為分隔\").split()))\n",
    "print(list_add_3(list3))"
   ]
  },
  {
   "cell_type": "code",
   "execution_count": 37,
   "id": "c0d0f002",
   "metadata": {},
   "outputs": [
    {
     "name": "stdout",
     "output_type": "stream",
     "text": [
      "請輸入正整數並以空格為分隔1 33 2 44 5\n",
      "[5, 37, 6, 48, 9]\n"
     ]
    }
   ],
   "source": [
    "def list_add_4(list4):\n",
    "    newlist2 = []\n",
    "    for i in range(len(list4)):\n",
    "        newlist2.append(list4[i]+4)\n",
    "    return newlist2\n",
    "list4 = list(map(int,input(\"請輸入正整數並以空格為分隔\").split()))\n",
    "print(list_add_4(list4))"
   ]
  },
  {
   "cell_type": "code",
   "execution_count": 3,
   "id": "06c05dbe",
   "metadata": {},
   "outputs": [
    {
     "name": "stdout",
     "output_type": "stream",
     "text": [
      "請輸入正整數並以空格為分隔4 55 6 77 8\n",
      "[5, 56, 7, 78, 9]\n"
     ]
    }
   ],
   "source": [
    "#老師解法：for不是拿來定位，而是直接改數值\n",
    "def add_example(mylist):\n",
    "    examplelist = []\n",
    "    for i in mylist:\n",
    "        examplelist.append(i+1)\n",
    "    return examplelist\n",
    "mylist = list(map(int,input(\"請輸入正整數並以空格為分隔\").split()))\n",
    "print(add_example(mylist))"
   ]
  },
  {
   "cell_type": "code",
   "execution_count": null,
   "id": "163488ed",
   "metadata": {},
   "outputs": [],
   "source": []
  }
 ],
 "metadata": {
  "kernelspec": {
   "display_name": "Python 3 (ipykernel)",
   "language": "python",
   "name": "python3"
  },
  "language_info": {
   "codemirror_mode": {
    "name": "ipython",
    "version": 3
   },
   "file_extension": ".py",
   "mimetype": "text/x-python",
   "name": "python",
   "nbconvert_exporter": "python",
   "pygments_lexer": "ipython3",
   "version": "3.10.9"
  }
 },
 "nbformat": 4,
 "nbformat_minor": 5
}
