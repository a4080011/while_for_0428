{
 "cells": [
  {
   "cell_type": "code",
   "execution_count": 1,
   "id": "86282e15",
   "metadata": {},
   "outputs": [
    {
     "name": "stdout",
     "output_type": "stream",
     "text": [
      "hi\n"
     ]
    }
   ],
   "source": [
    "print(\"hi\")"
   ]
  },
  {
   "cell_type": "code",
   "execution_count": 4,
   "id": "f7191757",
   "metadata": {},
   "outputs": [
    {
     "name": "stdout",
     "output_type": "stream",
     "text": [
      "輸入盎司：5.5\n",
      "155.9195克\n"
     ]
    }
   ],
   "source": [
    "oz = float(input(\"輸入盎司：\"))\n",
    "a=oz*28.349\n",
    "#float的問題是有可能裡面是逼近數而不是準確數，所以用相等判斷容易出錯。如果要判斷可以用if ((float-判斷數)<0.00001)：\n",
    "print(str(a)+\"克\")"
   ]
  },
  {
   "cell_type": "code",
   "execution_count": null,
   "id": "c4f2dc39",
   "metadata": {},
   "outputs": [],
   "source": [
    "def my_first_function"
   ]
  }
 ],
 "metadata": {
  "kernelspec": {
   "display_name": "Python 3 (ipykernel)",
   "language": "python",
   "name": "python3"
  },
  "language_info": {
   "codemirror_mode": {
    "name": "ipython",
    "version": 3
   },
   "file_extension": ".py",
   "mimetype": "text/x-python",
   "name": "python",
   "nbconvert_exporter": "python",
   "pygments_lexer": "ipython3",
   "version": "3.10.9"
  }
 },
 "nbformat": 4,
 "nbformat_minor": 5
}
