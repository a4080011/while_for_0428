{
 "cells": [
  {
   "cell_type": "code",
   "execution_count": 1,
   "id": "3ca0aac7",
   "metadata": {},
   "outputs": [
    {
     "name": "stdout",
     "output_type": "stream",
     "text": [
      "hi\n"
     ]
    }
   ],
   "source": [
    "print(\"hi\")"
   ]
  },
  {
   "cell_type": "code",
   "execution_count": 4,
   "id": "70c70725",
   "metadata": {},
   "outputs": [
    {
     "name": "stdout",
     "output_type": "stream",
     "text": [
      "輸入盎司：5.5\n",
      "155.9195克\n"
     ]
    }
   ],
   "source": [
    "oz = float(input(\"輸入盎司：\"))\n",
    "a=oz*28.349\n",
    "#float的問題是有可能裡面是逼近數而不是準確數，所以用相等判斷容易出錯。如果要判斷可以用if ((float-判斷數)<0.00001)：\n",
    "print(str(a)+\"克\")"
   ]
  },
  {
   "cell_type": "code",
   "execution_count": 5,
   "id": "6eda707b",
   "metadata": {},
   "outputs": [
    {
     "name": "stdout",
     "output_type": "stream",
     "text": [
      "輸入盎司：4\n",
      "112.0\n"
     ]
    }
   ],
   "source": [
    "def my_first_function():\n",
    "    oz = float(input(\"輸入盎司：\"))\n",
    "    gram = oz*28\n",
    "    print(gram)\n",
    "\n",
    "my_first_function()"
   ]
  },
  {
   "cell_type": "code",
   "execution_count": 10,
   "id": "51f191ac",
   "metadata": {},
   "outputs": [
    {
     "name": "stdout",
     "output_type": "stream",
     "text": [
      "請輸入分鐘：360\n",
      "6.0小時\n"
     ]
    }
   ],
   "source": [
    "def minute_to_hr():\n",
    "    minute = int(input(\"請輸入分鐘：\"))\n",
    "    hr = float(minute/60)\n",
    "    print(str(hr)+\"小時\")\n",
    "minute_to_hr()"
   ]
  },
  {
   "cell_type": "code",
   "execution_count": null,
   "id": "680b2d8c",
   "metadata": {},
   "outputs": [],
   "source": []
  }
 ],
 "metadata": {
  "kernelspec": {
   "display_name": "Python 3 (ipykernel)",
   "language": "python",
   "name": "python3"
  },
  "language_info": {
   "codemirror_mode": {
    "name": "ipython",
    "version": 3
   },
   "file_extension": ".py",
   "mimetype": "text/x-python",
   "name": "python",
   "nbconvert_exporter": "python",
   "pygments_lexer": "ipython3",
   "version": "3.10.9"
  }
 },
 "nbformat": 4,
 "nbformat_minor": 5
}
